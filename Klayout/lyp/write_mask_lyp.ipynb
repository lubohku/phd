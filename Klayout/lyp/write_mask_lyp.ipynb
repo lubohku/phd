{
 "cells": [
  {
   "cell_type": "code",
   "execution_count": 3,
   "metadata": {},
   "outputs": [],
   "source": [
    "import pandas as pd\n",
    "\n",
    "df = pd.read_excel('mask_lyp.xlsx')\n",
    "# print(df)\n",
    "\n",
    "mask_lyp = \"newdesign_mask_lyp.lyp\"\n",
    "f = open(mask_lyp, 'w')\n",
    "\n",
    "content = \"\"\"<?xml version=\"1.0\" encoding=\"utf-8\"?>\n",
    "<layer-properties>\n",
    "\"\"\"\n",
    "layers = len(df.Name)\n",
    "# print(layers)\n",
    "for k in range(layers):\n",
    "    content += \"\"\"\n",
    " <properties>\n",
    "  <frame-color>#%s</frame-color>\n",
    "  <fill-color>#%s</fill-color>\n",
    "  <frame-brightness>0</frame-brightness>\n",
    "  <fill-brightness>0</fill-brightness>\n",
    "  <dither-pattern>%s</dither-pattern>\n",
    "  <line-style/>\n",
    "  <valid>true</valid>\n",
    "  <visible>%s</visible>\n",
    "  <transparent>%s</transparent>\n",
    "  <width>%s</width>\n",
    "  <marked>false</marked>\n",
    "  <xfill>false</xfill>\n",
    "  <animation>%s</animation>\n",
    "  <name/>\n",
    "  <source>%s %s@1</source>\n",
    " </properties>\n",
    " \"\"\"%(df.Frame[k], df.Fill[k], df.Dither[k], str(df.Visible[k]).lower(), str(df.Transparent[k]).lower(), df.Width[k], df.Animation[k], df.Name[k], df.Layer[k])\n",
    "content += \"\"\"\n",
    "</layer-properties>\"\"\"\n",
    "f.write(content)\n",
    "f.close()\n",
    " "
   ]
  }
 ],
 "metadata": {
  "kernelspec": {
   "display_name": "Python 3.10.6 64-bit",
   "language": "python",
   "name": "python3"
  },
  "language_info": {
   "codemirror_mode": {
    "name": "ipython",
    "version": 3
   },
   "file_extension": ".py",
   "mimetype": "text/x-python",
   "name": "python",
   "nbconvert_exporter": "python",
   "pygments_lexer": "ipython3",
   "version": "3.10.6"
  },
  "orig_nbformat": 4,
  "vscode": {
   "interpreter": {
    "hash": "0f89655066fe58fd4a202f13d53c89e32c73942fe4280bac65de00cfff3d69ec"
   }
  }
 },
 "nbformat": 4,
 "nbformat_minor": 2
}
